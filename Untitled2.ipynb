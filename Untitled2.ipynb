{
 "cells": [
  {
   "cell_type": "code",
   "execution_count": 1,
   "metadata": {
    "collapsed": false
   },
   "outputs": [
    {
     "ename": "SystemExit",
     "evalue": "1",
     "output_type": "error",
     "traceback": [
      "An exception has occurred, use %tb to see the full traceback.\n",
      "\u001b[0;31mSystemExit\u001b[0m\u001b[0;31m:\u001b[0m 1\n"
     ]
    },
    {
     "name": "stderr",
     "output_type": "stream",
     "text": [
      "To exit: use 'exit', 'quit', or Ctrl-D.\n"
     ]
    }
   ],
   "source": [
    " #example_webserver.py #\n",
    "########################\n",
    "\n",
    "from flask import Flask, request\n",
    "\n",
    "import praw\n",
    "\n",
    "app = Flask(__name__)\n",
    "\n",
    "CLIENT_ID = 'e-_T3gZHhJlbbg'\n",
    "CLIENT_SECRET = 'yytNl10xHTbkuhwMSocCxYRk_CA'\n",
    "REDIRECT_URI = 'http://127.0.0.1:65010/authorize_callback'\n",
    "\n",
    "@app.route('/')\n",
    "def homepage():\n",
    "    link_no_refresh = r.get_authorize_url('UniqueKey')\n",
    "    link_refresh = r.get_authorize_url('DifferentUniqueKey',\n",
    "                                       refreshable=True)\n",
    "    link_no_refresh = \"<a href=%s>link</a>\" % link_no_refresh\n",
    "    link_refresh = \"<a href=%s>link</a>\" % link_refresh\n",
    "    text = \"First link. Not refreshable %s</br></br>\" % link_no_refresh\n",
    "    text += \"Second link. Refreshable %s</br></br>\" % link_refresh\n",
    "    return text\n",
    "\n",
    "@app.route('/authorize_callback')\n",
    "def authorized():\n",
    "    state = request.args.get('state', '')\n",
    "    code = request.args.get('code', '')\n",
    "    info = r.get_access_information(code)\n",
    "    user = r.get_me()\n",
    "    variables_text = \"State=%s, code=%s, info=%s.\" % (state, code,\n",
    "                                                      str(info))\n",
    "    text = 'You are %s and have %u link karma.' % (user.name,\n",
    "                                                   user.link_karma)\n",
    "    back_link = \"<a href='/'>Try again</a>\"\n",
    "    return variables_text + '</br></br>' + text + '</br></br>' + back_link\n",
    "\n",
    "if __name__ == '__main__':\n",
    "    r = praw.Reddit('OAuth Webserver example by u/_Daimon_ ver 0.1. See '\n",
    "                    'https://praw.readthedocs.io/en/latest/'\n",
    "                    'pages/oauth.html for more info.')\n",
    "    r.set_oauth_app_info(CLIENT_ID, CLIENT_SECRET, REDIRECT_URI)\n",
    "    app.run(debug=True, port=65010)"
   ]
  },
  {
   "cell_type": "code",
   "execution_count": 2,
   "metadata": {
    "collapsed": false
   },
   "outputs": [
    {
     "name": "stderr",
     "output_type": "stream",
     "text": [
      "/Users/poi8756/anaconda/envs/py35/lib/python3.5/site-packages/ipykernel/zmqshell.py:368: DeprecationWarning: ZMQInteractiveShell._exit_now_changed is deprecated: use @observe and @unobserve instead.\n",
      "  def _exit_now_changed(self, name, old, new):\n"
     ]
    }
   ],
   "source": [
    "exit"
   ]
  },
  {
   "cell_type": "code",
   "execution_count": 4,
   "metadata": {
    "collapsed": false
   },
   "outputs": [
    {
     "name": "stdout",
     "output_type": "stream",
     "text": [
      "[0, 1, 2, 3, 4, 5, 6, 7, 8, 9]\n"
     ]
    }
   ],
   "source": [
    "items = list(range(10))\n",
    "print(items)"
   ]
  },
  {
   "cell_type": "code",
   "execution_count": 5,
   "metadata": {
    "collapsed": false
   },
   "outputs": [
    {
     "ename": "SystemExit",
     "evalue": "1",
     "output_type": "error",
     "traceback": [
      "An exception has occurred, use %tb to see the full traceback.\n",
      "\u001b[0;31mSystemExit\u001b[0m\u001b[0;31m:\u001b[0m 1\n"
     ]
    },
    {
     "name": "stderr",
     "output_type": "stream",
     "text": [
      "To exit: use 'exit', 'quit', or Ctrl-D.\n"
     ]
    }
   ],
   "source": [
    " #example_webserver.py #\n",
    "########################\n",
    "\n",
    "from flask import Flask, request\n",
    "\n",
    "import praw\n",
    "\n",
    "app = Flask(__name__)\n",
    "\n",
    "CLIENT_ID = 'e-_T3gZHhJlbbg'\n",
    "CLIENT_SECRET = 'yytNl10xHTbkuhwMSocCxYRk_CA'\n",
    "REDIRECT_URI = 'http://127.0.0.1:65010/authorize_callback'\n",
    "\n",
    "@app.route('/')\n",
    "def homepage():\n",
    "    link_no_refresh = r.get_authorize_url('UniqueKey')\n",
    "    link_refresh = r.get_authorize_url('DifferentUniqueKey',\n",
    "                                       refreshable=True)\n",
    "    link_no_refresh = \"<a href=%s>link</a>\" % link_no_refresh\n",
    "    link_refresh = \"<a href=%s>link</a>\" % link_refresh\n",
    "    text = \"First link. Not refreshable %s</br></br>\" % link_no_refresh\n",
    "    text += \"Second link. Refreshable %s</br></br>\" % link_refresh\n",
    "    return text\n",
    "\n",
    "@app.route('/authorize_callback')\n",
    "def authorized():\n",
    "    state = request.args.get('state', '')\n",
    "    code = request.args.get('code', '')\n",
    "    info = r.get_access_information(code)\n",
    "    user = r.get_me()\n",
    "    variables_text = \"State=%s, code=%s, info=%s.\" % (state, code,\n",
    "                                                      str(info))\n",
    "    text = 'You are %s and have %u link karma.' % (user.name,\n",
    "                                                   user.link_karma)\n",
    "    back_link = \"<a href='/'>Try again</a>\"\n",
    "    return variables_text + '</br></br>' + text + '</br></br>' + back_link\n",
    "\n",
    "if __name__ == '__main__':\n",
    "    r = praw.Reddit('OAuth Webserver example by u/_Daimon_ ver 0.1. See '\n",
    "                    'https://praw.readthedocs.io/en/latest/'\n",
    "                    'pages/oauth.html for more info.')\n",
    "    r.set_oauth_app_info(CLIENT_ID, CLIENT_SECRET, REDIRECT_URI)\n",
    "    app.run(debug=True, port=65010)"
   ]
  },
  {
   "cell_type": "code",
   "execution_count": 6,
   "metadata": {
    "collapsed": false
   },
   "outputs": [
    {
     "name": "stderr",
     "output_type": "stream",
     "text": [
      "/Users/poi8756/anaconda/envs/py35/lib/python3.5/site-packages/ipykernel/zmqshell.py:368: DeprecationWarning: ZMQInteractiveShell._exit_now_changed is deprecated: use @observe and @unobserve instead.\n",
      "  def _exit_now_changed(self, name, old, new):\n"
     ]
    }
   ],
   "source": [
    "quit"
   ]
  },
  {
   "cell_type": "code",
   "execution_count": 1,
   "metadata": {
    "collapsed": false
   },
   "outputs": [
    {
     "name": "stderr",
     "output_type": "stream",
     "text": [
      "/Users/poi8756/anaconda/envs/py35/lib/python3.5/site-packages/IPython/core/formatters.py:92: DeprecationWarning: DisplayFormatter._ipython_display_formatter_default is deprecated: use @default decorator instead.\n",
      "  def _ipython_display_formatter_default(self):\n",
      "/Users/poi8756/anaconda/envs/py35/lib/python3.5/site-packages/IPython/core/formatters.py:98: DeprecationWarning: DisplayFormatter._formatters_default is deprecated: use @default decorator instead.\n",
      "  def _formatters_default(self):\n",
      "/Users/poi8756/anaconda/envs/py35/lib/python3.5/site-packages/IPython/core/formatters.py:677: DeprecationWarning: PlainTextFormatter._deferred_printers_default is deprecated: use @default decorator instead.\n",
      "  def _deferred_printers_default(self):\n",
      "/Users/poi8756/anaconda/envs/py35/lib/python3.5/site-packages/IPython/core/formatters.py:669: DeprecationWarning: PlainTextFormatter._singleton_printers_default is deprecated: use @default decorator instead.\n",
      "  def _singleton_printers_default(self):\n",
      "/Users/poi8756/anaconda/envs/py35/lib/python3.5/site-packages/IPython/core/formatters.py:672: DeprecationWarning: PlainTextFormatter._type_printers_default is deprecated: use @default decorator instead.\n",
      "  def _type_printers_default(self):\n",
      "/Users/poi8756/anaconda/envs/py35/lib/python3.5/site-packages/IPython/core/formatters.py:669: DeprecationWarning: PlainTextFormatter._singleton_printers_default is deprecated: use @default decorator instead.\n",
      "  def _singleton_printers_default(self):\n",
      "/Users/poi8756/anaconda/envs/py35/lib/python3.5/site-packages/IPython/core/formatters.py:672: DeprecationWarning: PlainTextFormatter._type_printers_default is deprecated: use @default decorator instead.\n",
      "  def _type_printers_default(self):\n",
      "/Users/poi8756/anaconda/envs/py35/lib/python3.5/site-packages/IPython/core/formatters.py:677: DeprecationWarning: PlainTextFormatter._deferred_printers_default is deprecated: use @default decorator instead.\n",
      "  def _deferred_printers_default(self):\n"
     ]
    },
    {
     "data": {
      "text/plain": [
       "True"
      ]
     },
     "execution_count": 1,
     "metadata": {},
     "output_type": "execute_result"
    }
   ],
   "source": [
    "#!/usr/bin/python\n",
    "#-​*- encoding: utf-8 -*​-\n",
    "\n",
    "import praw\n",
    "import webbrowser\n",
    "\n",
    "r = praw.Reddit('OAUTH testing example by u/_Daimon_ ver 0.1 see'\\\n",
    "'https://praw.readthedocs/io/en/latest/'\\\n",
    "'pages/oauth.html for source')\n",
    "\n",
    "r.set_oauth_app_info(client_id='e-_T3gZHhJlbbg',\\\n",
    "client_secret='yytNl10xHTbkuhwMSocCxYRk_CA',\\\n",
    "redirect_uri='http://127.0.0.1:65010/authorize_callback')\n",
    "\n",
    "url = r.get_authorize_url('uniqueKey',\\\n",
    "'identity',\\\n",
    "True)\n",
    "\n",
    "webbrowser.open(url)\n"
   ]
  },
  {
   "cell_type": "code",
   "execution_count": 2,
   "metadata": {
    "collapsed": false
   },
   "outputs": [
    {
     "ename": "OAuthException",
     "evalue": "Basic realm=\"reddit\" on url https://api.reddit.com/api/v1/access_token/",
     "output_type": "error",
     "traceback": [
      "\u001b[0;31m---------------------------------------------------------------------------\u001b[0m",
      "\u001b[0;31mOAuthException\u001b[0m                            Traceback (most recent call last)",
      "\u001b[0;32m<ipython-input-2-003220478e80>\u001b[0m in \u001b[0;36m<module>\u001b[0;34m()\u001b[0m\n\u001b[1;32m     14\u001b[0m \u001b[0mwebbrowser\u001b[0m\u001b[0;34m.\u001b[0m\u001b[0mopen\u001b[0m\u001b[0;34m(\u001b[0m\u001b[0murl\u001b[0m\u001b[0;34m)\u001b[0m\u001b[0;34m\u001b[0m\u001b[0m\n\u001b[1;32m     15\u001b[0m \u001b[0;34m\u001b[0m\u001b[0m\n\u001b[0;32m---> 16\u001b[0;31m \u001b[0maccess_information\u001b[0m \u001b[0;34m=\u001b[0m \u001b[0mr\u001b[0m\u001b[0;34m.\u001b[0m\u001b[0mget_access_information\u001b[0m\u001b[0;34m(\u001b[0m\u001b[0;34m'cTuIrFUO-XHr_eeXcuFgjdv2dsQ'\u001b[0m\u001b[0;34m)\u001b[0m\u001b[0;34m\u001b[0m\u001b[0m\n\u001b[0m\u001b[1;32m     17\u001b[0m \u001b[0mprint\u001b[0m\u001b[0;34m(\u001b[0m\u001b[0maccess_information\u001b[0m\u001b[0;34m)\u001b[0m\u001b[0;34m\u001b[0m\u001b[0m\n",
      "\u001b[0;32m/Users/poi8756/anaconda/envs/py35/lib/python3.5/site-packages/praw/__init__.py\u001b[0m in \u001b[0;36mget_access_information\u001b[0;34m(self, code, update_session)\u001b[0m\n\u001b[1;32m   1359\u001b[0m \u001b[0;34m\u001b[0m\u001b[0m\n\u001b[1;32m   1360\u001b[0m         \"\"\"\n\u001b[0;32m-> 1361\u001b[0;31m         \u001b[0mretval\u001b[0m \u001b[0;34m=\u001b[0m \u001b[0msuper\u001b[0m\u001b[0;34m(\u001b[0m\u001b[0mAuthenticatedReddit\u001b[0m\u001b[0;34m,\u001b[0m \u001b[0mself\u001b[0m\u001b[0;34m)\u001b[0m\u001b[0;34m.\u001b[0m\u001b[0mget_access_information\u001b[0m\u001b[0;34m(\u001b[0m\u001b[0mcode\u001b[0m\u001b[0;34m)\u001b[0m\u001b[0;34m\u001b[0m\u001b[0m\n\u001b[0m\u001b[1;32m   1362\u001b[0m         \u001b[0;32mif\u001b[0m \u001b[0mupdate_session\u001b[0m\u001b[0;34m:\u001b[0m\u001b[0;34m\u001b[0m\u001b[0m\n\u001b[1;32m   1363\u001b[0m             \u001b[0mself\u001b[0m\u001b[0;34m.\u001b[0m\u001b[0mset_access_credentials\u001b[0m\u001b[0;34m(\u001b[0m\u001b[0;34m**\u001b[0m\u001b[0mretval\u001b[0m\u001b[0;34m)\u001b[0m\u001b[0;34m\u001b[0m\u001b[0m\n",
      "\u001b[0;32m<decorator-gen-132>\u001b[0m in \u001b[0;36mget_access_information\u001b[0;34m(self, code)\u001b[0m\n",
      "\u001b[0;32m/Users/poi8756/anaconda/envs/py35/lib/python3.5/site-packages/praw/decorators.py\u001b[0m in \u001b[0;36mrequire_oauth\u001b[0;34m(function, *args, **kwargs)\u001b[0m\n\u001b[1;32m    286\u001b[0m                    \"and redirect_url must be specified to use this function.\")\n\u001b[1;32m    287\u001b[0m         \u001b[0;32mraise\u001b[0m \u001b[0merrors\u001b[0m\u001b[0;34m.\u001b[0m\u001b[0mOAuthAppRequired\u001b[0m\u001b[0;34m(\u001b[0m\u001b[0merr_msg\u001b[0m\u001b[0;34m)\u001b[0m\u001b[0;34m\u001b[0m\u001b[0m\n\u001b[0;32m--> 288\u001b[0;31m     \u001b[0;32mreturn\u001b[0m \u001b[0mfunction\u001b[0m\u001b[0;34m(\u001b[0m\u001b[0;34m*\u001b[0m\u001b[0margs\u001b[0m\u001b[0;34m,\u001b[0m \u001b[0;34m**\u001b[0m\u001b[0mkwargs\u001b[0m\u001b[0;34m)\u001b[0m\u001b[0;34m\u001b[0m\u001b[0m\n\u001b[0m",
      "\u001b[0;32m/Users/poi8756/anaconda/envs/py35/lib/python3.5/site-packages/praw/__init__.py\u001b[0m in \u001b[0;36mget_access_information\u001b[0;34m(self, code)\u001b[0m\n\u001b[1;32m    682\u001b[0m         data = {'code': code, 'grant_type': 'authorization_code',\n\u001b[1;32m    683\u001b[0m                 'redirect_uri': self.redirect_uri}\n\u001b[0;32m--> 684\u001b[0;31m         \u001b[0mretval\u001b[0m \u001b[0;34m=\u001b[0m \u001b[0mself\u001b[0m\u001b[0;34m.\u001b[0m\u001b[0m_handle_oauth_request\u001b[0m\u001b[0;34m(\u001b[0m\u001b[0mdata\u001b[0m\u001b[0;34m)\u001b[0m\u001b[0;34m\u001b[0m\u001b[0m\n\u001b[0m\u001b[1;32m    685\u001b[0m         return {'access_token': retval['access_token'],\n\u001b[1;32m    686\u001b[0m                 \u001b[0;34m'refresh_token'\u001b[0m\u001b[0;34m:\u001b[0m \u001b[0mretval\u001b[0m\u001b[0;34m.\u001b[0m\u001b[0mget\u001b[0m\u001b[0;34m(\u001b[0m\u001b[0;34m'refresh_token'\u001b[0m\u001b[0;34m)\u001b[0m\u001b[0;34m,\u001b[0m\u001b[0;34m\u001b[0m\u001b[0m\n",
      "\u001b[0;32m/Users/poi8756/anaconda/envs/py35/lib/python3.5/site-packages/praw/__init__.py\u001b[0m in \u001b[0;36m_handle_oauth_request\u001b[0;34m(self, data)\u001b[0m\n\u001b[1;32m    657\u001b[0m         \u001b[0mauth\u001b[0m \u001b[0;34m=\u001b[0m \u001b[0;34m(\u001b[0m\u001b[0mself\u001b[0m\u001b[0;34m.\u001b[0m\u001b[0mclient_id\u001b[0m\u001b[0;34m,\u001b[0m \u001b[0mself\u001b[0m\u001b[0;34m.\u001b[0m\u001b[0mclient_secret\u001b[0m\u001b[0;34m)\u001b[0m\u001b[0;34m\u001b[0m\u001b[0m\n\u001b[1;32m    658\u001b[0m         \u001b[0murl\u001b[0m \u001b[0;34m=\u001b[0m \u001b[0mself\u001b[0m\u001b[0;34m.\u001b[0m\u001b[0mconfig\u001b[0m\u001b[0;34m[\u001b[0m\u001b[0;34m'access_token_url'\u001b[0m\u001b[0;34m]\u001b[0m\u001b[0;34m\u001b[0m\u001b[0m\n\u001b[0;32m--> 659\u001b[0;31m         \u001b[0mresponse\u001b[0m \u001b[0;34m=\u001b[0m \u001b[0mself\u001b[0m\u001b[0;34m.\u001b[0m\u001b[0m_request\u001b[0m\u001b[0;34m(\u001b[0m\u001b[0murl\u001b[0m\u001b[0;34m,\u001b[0m \u001b[0mauth\u001b[0m\u001b[0;34m=\u001b[0m\u001b[0mauth\u001b[0m\u001b[0;34m,\u001b[0m \u001b[0mdata\u001b[0m\u001b[0;34m=\u001b[0m\u001b[0mdata\u001b[0m\u001b[0;34m,\u001b[0m \u001b[0mraw_response\u001b[0m\u001b[0;34m=\u001b[0m\u001b[0;32mTrue\u001b[0m\u001b[0;34m)\u001b[0m\u001b[0;34m\u001b[0m\u001b[0m\n\u001b[0m\u001b[1;32m    660\u001b[0m         \u001b[0;32mif\u001b[0m \u001b[0;32mnot\u001b[0m \u001b[0mresponse\u001b[0m\u001b[0;34m.\u001b[0m\u001b[0mok\u001b[0m\u001b[0;34m:\u001b[0m\u001b[0;34m\u001b[0m\u001b[0m\n\u001b[1;32m    661\u001b[0m             \u001b[0mmsg\u001b[0m \u001b[0;34m=\u001b[0m \u001b[0;34m'Unexpected OAuthReturn: {0}'\u001b[0m\u001b[0;34m.\u001b[0m\u001b[0mformat\u001b[0m\u001b[0;34m(\u001b[0m\u001b[0mresponse\u001b[0m\u001b[0;34m.\u001b[0m\u001b[0mstatus_code\u001b[0m\u001b[0;34m)\u001b[0m\u001b[0;34m\u001b[0m\u001b[0m\n",
      "\u001b[0;32m/Users/poi8756/anaconda/envs/py35/lib/python3.5/site-packages/praw/__init__.py\u001b[0m in \u001b[0;36m_request\u001b[0;34m(self, url, params, data, files, auth, timeout, raw_response, retry_on_error, method)\u001b[0m\n\u001b[1;32m    452\u001b[0m                 \u001b[0mself\u001b[0m\u001b[0;34m.\u001b[0m\u001b[0m_use_oauth\u001b[0m \u001b[0;34m=\u001b[0m \u001b[0mself\u001b[0m\u001b[0;34m.\u001b[0m\u001b[0mis_oauth_session\u001b[0m\u001b[0;34m(\u001b[0m\u001b[0;34m)\u001b[0m\u001b[0;34m\u001b[0m\u001b[0m\n\u001b[1;32m    453\u001b[0m                 \u001b[0mresponse\u001b[0m \u001b[0;34m=\u001b[0m \u001b[0mhandle_redirect\u001b[0m\u001b[0;34m(\u001b[0m\u001b[0;34m)\u001b[0m\u001b[0;34m\u001b[0m\u001b[0m\n\u001b[0;32m--> 454\u001b[0;31m                 \u001b[0m_raise_response_exceptions\u001b[0m\u001b[0;34m(\u001b[0m\u001b[0mresponse\u001b[0m\u001b[0;34m)\u001b[0m\u001b[0;34m\u001b[0m\u001b[0m\n\u001b[0m\u001b[1;32m    455\u001b[0m                 \u001b[0mself\u001b[0m\u001b[0;34m.\u001b[0m\u001b[0mhttp\u001b[0m\u001b[0;34m.\u001b[0m\u001b[0mcookies\u001b[0m\u001b[0;34m.\u001b[0m\u001b[0mupdate\u001b[0m\u001b[0;34m(\u001b[0m\u001b[0mresponse\u001b[0m\u001b[0;34m.\u001b[0m\u001b[0mcookies\u001b[0m\u001b[0;34m)\u001b[0m\u001b[0;34m\u001b[0m\u001b[0m\n\u001b[1;32m    456\u001b[0m                 \u001b[0;32mif\u001b[0m \u001b[0mraw_response\u001b[0m\u001b[0;34m:\u001b[0m\u001b[0;34m\u001b[0m\u001b[0m\n",
      "\u001b[0;32m/Users/poi8756/anaconda/envs/py35/lib/python3.5/site-packages/praw/internal.py\u001b[0m in \u001b[0;36m_raise_response_exceptions\u001b[0;34m(response)\u001b[0m\n\u001b[1;32m    203\u001b[0m             \u001b[0;32mraise\u001b[0m \u001b[0mOAuthInvalidToken\u001b[0m\u001b[0;34m(\u001b[0m\u001b[0;34m'invalid_token'\u001b[0m\u001b[0;34m,\u001b[0m \u001b[0mresponse\u001b[0m\u001b[0;34m.\u001b[0m\u001b[0murl\u001b[0m\u001b[0;34m)\u001b[0m\u001b[0;34m\u001b[0m\u001b[0m\n\u001b[1;32m    204\u001b[0m         \u001b[0;32melse\u001b[0m\u001b[0;34m:\u001b[0m\u001b[0;34m\u001b[0m\u001b[0m\n\u001b[0;32m--> 205\u001b[0;31m             \u001b[0;32mraise\u001b[0m \u001b[0mOAuthException\u001b[0m\u001b[0;34m(\u001b[0m\u001b[0mmsg\u001b[0m\u001b[0;34m,\u001b[0m \u001b[0mresponse\u001b[0m\u001b[0;34m.\u001b[0m\u001b[0murl\u001b[0m\u001b[0;34m)\u001b[0m\u001b[0;34m\u001b[0m\u001b[0m\n\u001b[0m\u001b[1;32m    206\u001b[0m \u001b[0;34m\u001b[0m\u001b[0m\n\u001b[1;32m    207\u001b[0m     \u001b[0;32mif\u001b[0m \u001b[0mresponse\u001b[0m\u001b[0;34m.\u001b[0m\u001b[0mstatus_code\u001b[0m \u001b[0;34m==\u001b[0m \u001b[0mcodes\u001b[0m\u001b[0;34m.\u001b[0m\u001b[0mforbidden\u001b[0m\u001b[0;34m:\u001b[0m  \u001b[0;31m# pylint: disable=E1101\u001b[0m\u001b[0;34m\u001b[0m\u001b[0m\n",
      "\u001b[0;31mOAuthException\u001b[0m: Basic realm=\"reddit\" on url https://api.reddit.com/api/v1/access_token/"
     ]
    }
   ],
   "source": [
    "#!/usr/bin/python\n",
    "#-​*- encoding: utf-8 -*​-\n",
    "\n",
    "import praw\n",
    "import webbrowser\n",
    "\n",
    "r = praw.Reddit('OAUTH testing example by u/_Daimon_ ver 0.1 see'\\\n",
    "'https://praw.readthedocs/io/en/latest/'\\\n",
    "'pages/oauth.html for source')\n",
    "\n",
    "r.set_oauth_app_info(client_id='stJlUSUbPQe5lQ',\\\n",
    "client_secret='DoNotSHAREWithANYBODY',\\\n",
    "redirect_uri='http://127.0.0.1:65010/'\n",
    "'authorize_callback')\n",
    "\n",
    "url = r.get_authorize_url('uniqueKey',\\\n",
    "'identity',\\\n",
    "True)\n",
    "\n",
    "webbrowser.open(url)\n",
    "\n",
    "access_information = r.get_access_information('cTuIrFUO-XHr_eeXcuFgjdv2dsQ')\n",
    "print(access_information)"
   ]
  },
  {
   "cell_type": "code",
   "execution_count": 4,
   "metadata": {
    "collapsed": false
   },
   "outputs": [
    {
     "ename": "OAuthInvalidGrant",
     "evalue": "invalid_grant on url https://api.reddit.com/api/v1/access_token/",
     "output_type": "error",
     "traceback": [
      "\u001b[0;31m---------------------------------------------------------------------------\u001b[0m",
      "\u001b[0;31mOAuthInvalidGrant\u001b[0m                         Traceback (most recent call last)",
      "\u001b[0;32m<ipython-input-4-5be0da6c8361>\u001b[0m in \u001b[0;36m<module>\u001b[0;34m()\u001b[0m\n\u001b[1;32m     14\u001b[0m \u001b[0mwebbrowser\u001b[0m\u001b[0;34m.\u001b[0m\u001b[0mopen\u001b[0m\u001b[0;34m(\u001b[0m\u001b[0murl\u001b[0m\u001b[0;34m)\u001b[0m\u001b[0;34m\u001b[0m\u001b[0m\n\u001b[1;32m     15\u001b[0m \u001b[0;34m\u001b[0m\u001b[0m\n\u001b[0;32m---> 16\u001b[0;31m \u001b[0maccess_information\u001b[0m \u001b[0;34m=\u001b[0m \u001b[0mr\u001b[0m\u001b[0;34m.\u001b[0m\u001b[0mget_access_information\u001b[0m\u001b[0;34m(\u001b[0m\u001b[0;34m'cTuIrFUO-XHr_eeXcuFgjdv2dsQ'\u001b[0m\u001b[0;34m)\u001b[0m\u001b[0;34m\u001b[0m\u001b[0m\n\u001b[0m\u001b[1;32m     17\u001b[0m \u001b[0mprint\u001b[0m\u001b[0;34m(\u001b[0m\u001b[0maccess_information\u001b[0m\u001b[0;34m)\u001b[0m\u001b[0;34m\u001b[0m\u001b[0m\n",
      "\u001b[0;32m/Users/poi8756/anaconda/envs/py35/lib/python3.5/site-packages/praw/__init__.py\u001b[0m in \u001b[0;36mget_access_information\u001b[0;34m(self, code, update_session)\u001b[0m\n\u001b[1;32m   1359\u001b[0m \u001b[0;34m\u001b[0m\u001b[0m\n\u001b[1;32m   1360\u001b[0m         \"\"\"\n\u001b[0;32m-> 1361\u001b[0;31m         \u001b[0mretval\u001b[0m \u001b[0;34m=\u001b[0m \u001b[0msuper\u001b[0m\u001b[0;34m(\u001b[0m\u001b[0mAuthenticatedReddit\u001b[0m\u001b[0;34m,\u001b[0m \u001b[0mself\u001b[0m\u001b[0;34m)\u001b[0m\u001b[0;34m.\u001b[0m\u001b[0mget_access_information\u001b[0m\u001b[0;34m(\u001b[0m\u001b[0mcode\u001b[0m\u001b[0;34m)\u001b[0m\u001b[0;34m\u001b[0m\u001b[0m\n\u001b[0m\u001b[1;32m   1362\u001b[0m         \u001b[0;32mif\u001b[0m \u001b[0mupdate_session\u001b[0m\u001b[0;34m:\u001b[0m\u001b[0;34m\u001b[0m\u001b[0m\n\u001b[1;32m   1363\u001b[0m             \u001b[0mself\u001b[0m\u001b[0;34m.\u001b[0m\u001b[0mset_access_credentials\u001b[0m\u001b[0;34m(\u001b[0m\u001b[0;34m**\u001b[0m\u001b[0mretval\u001b[0m\u001b[0;34m)\u001b[0m\u001b[0;34m\u001b[0m\u001b[0m\n",
      "\u001b[0;32m<decorator-gen-132>\u001b[0m in \u001b[0;36mget_access_information\u001b[0;34m(self, code)\u001b[0m\n",
      "\u001b[0;32m/Users/poi8756/anaconda/envs/py35/lib/python3.5/site-packages/praw/decorators.py\u001b[0m in \u001b[0;36mrequire_oauth\u001b[0;34m(function, *args, **kwargs)\u001b[0m\n\u001b[1;32m    286\u001b[0m                    \"and redirect_url must be specified to use this function.\")\n\u001b[1;32m    287\u001b[0m         \u001b[0;32mraise\u001b[0m \u001b[0merrors\u001b[0m\u001b[0;34m.\u001b[0m\u001b[0mOAuthAppRequired\u001b[0m\u001b[0;34m(\u001b[0m\u001b[0merr_msg\u001b[0m\u001b[0;34m)\u001b[0m\u001b[0;34m\u001b[0m\u001b[0m\n\u001b[0;32m--> 288\u001b[0;31m     \u001b[0;32mreturn\u001b[0m \u001b[0mfunction\u001b[0m\u001b[0;34m(\u001b[0m\u001b[0;34m*\u001b[0m\u001b[0margs\u001b[0m\u001b[0;34m,\u001b[0m \u001b[0;34m**\u001b[0m\u001b[0mkwargs\u001b[0m\u001b[0;34m)\u001b[0m\u001b[0;34m\u001b[0m\u001b[0m\n\u001b[0m",
      "\u001b[0;32m/Users/poi8756/anaconda/envs/py35/lib/python3.5/site-packages/praw/__init__.py\u001b[0m in \u001b[0;36mget_access_information\u001b[0;34m(self, code)\u001b[0m\n\u001b[1;32m    682\u001b[0m         data = {'code': code, 'grant_type': 'authorization_code',\n\u001b[1;32m    683\u001b[0m                 'redirect_uri': self.redirect_uri}\n\u001b[0;32m--> 684\u001b[0;31m         \u001b[0mretval\u001b[0m \u001b[0;34m=\u001b[0m \u001b[0mself\u001b[0m\u001b[0;34m.\u001b[0m\u001b[0m_handle_oauth_request\u001b[0m\u001b[0;34m(\u001b[0m\u001b[0mdata\u001b[0m\u001b[0;34m)\u001b[0m\u001b[0;34m\u001b[0m\u001b[0m\n\u001b[0m\u001b[1;32m    685\u001b[0m         return {'access_token': retval['access_token'],\n\u001b[1;32m    686\u001b[0m                 \u001b[0;34m'refresh_token'\u001b[0m\u001b[0;34m:\u001b[0m \u001b[0mretval\u001b[0m\u001b[0;34m.\u001b[0m\u001b[0mget\u001b[0m\u001b[0;34m(\u001b[0m\u001b[0;34m'refresh_token'\u001b[0m\u001b[0;34m)\u001b[0m\u001b[0;34m,\u001b[0m\u001b[0;34m\u001b[0m\u001b[0m\n",
      "\u001b[0;32m/Users/poi8756/anaconda/envs/py35/lib/python3.5/site-packages/praw/__init__.py\u001b[0m in \u001b[0;36m_handle_oauth_request\u001b[0;34m(self, data)\u001b[0m\n\u001b[1;32m    665\u001b[0m             \u001b[0merror\u001b[0m \u001b[0;34m=\u001b[0m \u001b[0mretval\u001b[0m\u001b[0;34m[\u001b[0m\u001b[0;34m'error'\u001b[0m\u001b[0;34m]\u001b[0m\u001b[0;34m\u001b[0m\u001b[0m\n\u001b[1;32m    666\u001b[0m             \u001b[0;32mif\u001b[0m \u001b[0merror\u001b[0m \u001b[0;34m==\u001b[0m \u001b[0;34m'invalid_grant'\u001b[0m\u001b[0;34m:\u001b[0m\u001b[0;34m\u001b[0m\u001b[0m\n\u001b[0;32m--> 667\u001b[0;31m                 \u001b[0;32mraise\u001b[0m \u001b[0merrors\u001b[0m\u001b[0;34m.\u001b[0m\u001b[0mOAuthInvalidGrant\u001b[0m\u001b[0;34m(\u001b[0m\u001b[0merror\u001b[0m\u001b[0;34m,\u001b[0m \u001b[0murl\u001b[0m\u001b[0;34m)\u001b[0m\u001b[0;34m\u001b[0m\u001b[0m\n\u001b[0m\u001b[1;32m    668\u001b[0m             \u001b[0;32mraise\u001b[0m \u001b[0merrors\u001b[0m\u001b[0;34m.\u001b[0m\u001b[0mOAuthException\u001b[0m\u001b[0;34m(\u001b[0m\u001b[0mretval\u001b[0m\u001b[0;34m[\u001b[0m\u001b[0;34m'error'\u001b[0m\u001b[0;34m]\u001b[0m\u001b[0;34m,\u001b[0m \u001b[0murl\u001b[0m\u001b[0;34m)\u001b[0m\u001b[0;34m\u001b[0m\u001b[0m\n\u001b[1;32m    669\u001b[0m         \u001b[0;32mreturn\u001b[0m \u001b[0mretval\u001b[0m\u001b[0;34m\u001b[0m\u001b[0m\n",
      "\u001b[0;31mOAuthInvalidGrant\u001b[0m: invalid_grant on url https://api.reddit.com/api/v1/access_token/"
     ]
    }
   ],
   "source": [
    "#!/usr/bin/python\n",
    "#-​*- encoding: utf-8 -*​-\n",
    "\n",
    "import praw\n",
    "import webbrowser\n",
    "\n",
    "r = praw.Reddit('OAUTH testing example by u/_Daimon_ ver 0.1 see'\\\n",
    "'https://praw.readthedocs/io/en/latest/'\\\n",
    "'pages/oauth.html for source')\n",
    "\n",
    "r.set_oauth_app_info(client_id='e-_T3gZHhJlbbg',\\\n",
    "client_secret='yytNl10xHTbkuhwMSocCxYRk_CA',\\\n",
    "redirect_uri='http://127.0.0.1:65010/'\n",
    "'authorize_callback')\n",
    "\n",
    "url = r.get_authorize_url('uniqueKey',\\\n",
    "'identity',\\\n",
    "True)\n",
    "\n",
    "webbrowser.open(url)\n",
    "\n",
    "access_information = r.get_access_information('cTuIrFUO-XHr_eeXcuFgjdv2dsQ')\n",
    "print(access_information)\n"
   ]
  },
  {
   "cell_type": "code",
   "execution_count": 11,
   "metadata": {
    "collapsed": false
   },
   "outputs": [
    {
     "name": "stdout",
     "output_type": "stream",
     "text": [
      "k920049 1\n"
     ]
    }
   ],
   "source": [
    "import praw\n",
    "import webbrowser\n",
    "\n",
    "r = praw.Reddit('OAUTH testing example by u/_Daimon_ ver 0.1 see'\\\n",
    "'https://praw.readthedocs/io/en/latest/'\\\n",
    "'pages/oauth.html for source')\n",
    "\n",
    "r.set_oauth_app_info(client_id='e-_T3gZHhJlbbg',\\\n",
    "client_secret='yytNl10xHTbkuhwMSocCxYRk_CA',\\\n",
    "redirect_uri='http://127.0.0.1:65010/'\n",
    "'authorize_callback')\n",
    "\n",
    "#url = r.get_authorize_url('uniqueKey', 'identity', True)\n",
    "#webbrowser.open(url)\n",
    "\n",
    "access_information = r.get_access_information('UWt3kBtJl6fTk335tkgDkXe8_vU')\n",
    "r.set_access_credentials(**access_information)\n",
    "authenticated_user = r.get_me()\n",
    "print(authenticated_user.name, authenticated_user.link_karma)"
   ]
  },
  {
   "cell_type": "code",
   "execution_count": null,
   "metadata": {
    "collapsed": true
   },
   "outputs": [],
   "source": []
  },
  {
   "cell_type": "code",
   "execution_count": 12,
   "metadata": {
    "collapsed": false
   },
   "outputs": [
    {
     "ename": "OSError",
     "evalue": "[Errno 48] Address already in use",
     "output_type": "error",
     "traceback": [
      "\u001b[0;31m---------------------------------------------------------------------------\u001b[0m",
      "\u001b[0;31mOSError\u001b[0m                                   Traceback (most recent call last)",
      "\u001b[0;32m<ipython-input-12-8fc25d569cbc>\u001b[0m in \u001b[0;36m<module>\u001b[0;34m()\u001b[0m\n\u001b[1;32m     41\u001b[0m                     'pages/oauth.html for more info.')\n\u001b[1;32m     42\u001b[0m     \u001b[0mr\u001b[0m\u001b[0;34m.\u001b[0m\u001b[0mset_oauth_app_info\u001b[0m\u001b[0;34m(\u001b[0m\u001b[0mCLIENT_ID\u001b[0m\u001b[0;34m,\u001b[0m \u001b[0mCLIENT_SECRET\u001b[0m\u001b[0;34m,\u001b[0m \u001b[0mREDIRECT_URI\u001b[0m\u001b[0;34m)\u001b[0m\u001b[0;34m\u001b[0m\u001b[0m\n\u001b[0;32m---> 43\u001b[0;31m     \u001b[0mapp\u001b[0m\u001b[0;34m.\u001b[0m\u001b[0mrun\u001b[0m\u001b[0;34m(\u001b[0m\u001b[0mdebug\u001b[0m\u001b[0;34m=\u001b[0m\u001b[0;32mTrue\u001b[0m\u001b[0;34m,\u001b[0m \u001b[0mport\u001b[0m\u001b[0;34m=\u001b[0m\u001b[0;36m65010\u001b[0m\u001b[0;34m)\u001b[0m\u001b[0;34m\u001b[0m\u001b[0m\n\u001b[0m",
      "\u001b[0;32m/Users/poi8756/anaconda/envs/py35/lib/python3.5/site-packages/flask/app.py\u001b[0m in \u001b[0;36mrun\u001b[0;34m(self, host, port, debug, **options)\u001b[0m\n\u001b[1;32m    841\u001b[0m         \u001b[0moptions\u001b[0m\u001b[0;34m.\u001b[0m\u001b[0msetdefault\u001b[0m\u001b[0;34m(\u001b[0m\u001b[0;34m'passthrough_errors'\u001b[0m\u001b[0;34m,\u001b[0m \u001b[0;32mTrue\u001b[0m\u001b[0;34m)\u001b[0m\u001b[0;34m\u001b[0m\u001b[0m\n\u001b[1;32m    842\u001b[0m         \u001b[0;32mtry\u001b[0m\u001b[0;34m:\u001b[0m\u001b[0;34m\u001b[0m\u001b[0m\n\u001b[0;32m--> 843\u001b[0;31m             \u001b[0mrun_simple\u001b[0m\u001b[0;34m(\u001b[0m\u001b[0mhost\u001b[0m\u001b[0;34m,\u001b[0m \u001b[0mport\u001b[0m\u001b[0;34m,\u001b[0m \u001b[0mself\u001b[0m\u001b[0;34m,\u001b[0m \u001b[0;34m**\u001b[0m\u001b[0moptions\u001b[0m\u001b[0;34m)\u001b[0m\u001b[0;34m\u001b[0m\u001b[0m\n\u001b[0m\u001b[1;32m    844\u001b[0m         \u001b[0;32mfinally\u001b[0m\u001b[0;34m:\u001b[0m\u001b[0;34m\u001b[0m\u001b[0m\n\u001b[1;32m    845\u001b[0m             \u001b[0;31m# reset the first request information if the development server\u001b[0m\u001b[0;34m\u001b[0m\u001b[0;34m\u001b[0m\u001b[0m\n",
      "\u001b[0;32m/Users/poi8756/anaconda/envs/py35/lib/python3.5/site-packages/werkzeug/serving.py\u001b[0m in \u001b[0;36mrun_simple\u001b[0;34m(hostname, port, application, use_reloader, use_debugger, use_evalex, extra_files, reloader_interval, reloader_type, threaded, processes, request_handler, static_files, passthrough_errors, ssl_context)\u001b[0m\n\u001b[1;32m    675\u001b[0m             \u001b[0ms\u001b[0m \u001b[0;34m=\u001b[0m \u001b[0msocket\u001b[0m\u001b[0;34m.\u001b[0m\u001b[0msocket\u001b[0m\u001b[0;34m(\u001b[0m\u001b[0maddress_family\u001b[0m\u001b[0;34m,\u001b[0m \u001b[0msocket\u001b[0m\u001b[0;34m.\u001b[0m\u001b[0mSOCK_STREAM\u001b[0m\u001b[0;34m)\u001b[0m\u001b[0;34m\u001b[0m\u001b[0m\n\u001b[1;32m    676\u001b[0m             \u001b[0ms\u001b[0m\u001b[0;34m.\u001b[0m\u001b[0msetsockopt\u001b[0m\u001b[0;34m(\u001b[0m\u001b[0msocket\u001b[0m\u001b[0;34m.\u001b[0m\u001b[0mSOL_SOCKET\u001b[0m\u001b[0;34m,\u001b[0m \u001b[0msocket\u001b[0m\u001b[0;34m.\u001b[0m\u001b[0mSO_REUSEADDR\u001b[0m\u001b[0;34m,\u001b[0m \u001b[0;36m1\u001b[0m\u001b[0;34m)\u001b[0m\u001b[0;34m\u001b[0m\u001b[0m\n\u001b[0;32m--> 677\u001b[0;31m             \u001b[0ms\u001b[0m\u001b[0;34m.\u001b[0m\u001b[0mbind\u001b[0m\u001b[0;34m(\u001b[0m\u001b[0;34m(\u001b[0m\u001b[0mhostname\u001b[0m\u001b[0;34m,\u001b[0m \u001b[0mport\u001b[0m\u001b[0;34m)\u001b[0m\u001b[0;34m)\u001b[0m\u001b[0;34m\u001b[0m\u001b[0m\n\u001b[0m\u001b[1;32m    678\u001b[0m             \u001b[0;32mif\u001b[0m \u001b[0mhasattr\u001b[0m\u001b[0;34m(\u001b[0m\u001b[0ms\u001b[0m\u001b[0;34m,\u001b[0m \u001b[0;34m'set_inheritable'\u001b[0m\u001b[0;34m)\u001b[0m\u001b[0;34m:\u001b[0m\u001b[0;34m\u001b[0m\u001b[0m\n\u001b[1;32m    679\u001b[0m                 \u001b[0ms\u001b[0m\u001b[0;34m.\u001b[0m\u001b[0mset_inheritable\u001b[0m\u001b[0;34m(\u001b[0m\u001b[0;32mTrue\u001b[0m\u001b[0;34m)\u001b[0m\u001b[0;34m\u001b[0m\u001b[0m\n",
      "\u001b[0;31mOSError\u001b[0m: [Errno 48] Address already in use"
     ]
    }
   ],
   "source": [
    "# example_webserver.py #\n",
    "########################\n",
    "\n",
    "from flask import Flask, request\n",
    "\n",
    "import praw\n",
    "\n",
    "app = Flask(__name__)\n",
    "\n",
    "CLIENT_ID = 'e-_T3gZHhJlbbg'\n",
    "CLIENT_SECRET = 'yytNl10xHTbkuhwMSocCxYRk_CA'\n",
    "REDIRECT_URI = 'http://127.0.0.1:65010/authorize_callback'\n",
    "\n",
    "@app.route('/')\n",
    "def homepage():\n",
    "    link_no_refresh = r.get_authorize_url('UniqueKey')\n",
    "    link_refresh = r.get_authorize_url('DifferentUniqueKey',\n",
    "                                       refreshable=True)\n",
    "    link_no_refresh = \"<a href=%s>link</a>\" % link_no_refresh\n",
    "    link_refresh = \"<a href=%s>link</a>\" % link_refresh\n",
    "    text = \"First link. Not refreshable %s</br></br>\" % link_no_refresh\n",
    "    text += \"Second link. Refreshable %s</br></br>\" % link_refresh\n",
    "    return text\n",
    "\n",
    "@app.route('/authorize_callback')\n",
    "def authorized():\n",
    "    state = request.args.get('state', '')\n",
    "    code = request.args.get('code', '')\n",
    "    info = r.get_access_information(code)\n",
    "    user = r.get_me()\n",
    "    variables_text = \"State=%s, code=%s, info=%s.\" % (state, code,\n",
    "                                                      str(info))\n",
    "    text = 'You are %s and have %u link karma.' % (user.name,\n",
    "                                                   user.link_karma)\n",
    "    back_link = \"<a href='/'>Try again</a>\"\n",
    "    return variables_text + '</br></br>' + text + '</br></br>' + back_link\n",
    "\n",
    "if __name__ == '__main__':\n",
    "    r = praw.Reddit('OAuth Webserver example by u/_Daimon_ ver 0.1. See '\n",
    "                    'https://praw.readthedocs.io/en/latest/'\n",
    "                    'pages/oauth.html for more info.')\n",
    "    r.set_oauth_app_info(CLIENT_ID, CLIENT_SECRET, REDIRECT_URI)\n",
    "    app.run(debug=True, port=65010)"
   ]
  },
  {
   "cell_type": "code",
   "execution_count": 8,
   "metadata": {
    "collapsed": false
   },
   "outputs": [
    {
     "ename": "SystemExit",
     "evalue": "1",
     "output_type": "error",
     "traceback": [
      "\u001b[0;31m---------------------------------------------------------------------------\u001b[0m",
      "\u001b[0;31mSystemExit\u001b[0m                                Traceback (most recent call last)",
      "\u001b[0;32m<ipython-input-7-8fc25d569cbc>\u001b[0m in \u001b[0;36m<module>\u001b[0;34m()\u001b[0m\n\u001b[1;32m     41\u001b[0m                     'pages/oauth.html for more info.')\n\u001b[1;32m     42\u001b[0m     \u001b[0mr\u001b[0m\u001b[0;34m.\u001b[0m\u001b[0mset_oauth_app_info\u001b[0m\u001b[0;34m(\u001b[0m\u001b[0mCLIENT_ID\u001b[0m\u001b[0;34m,\u001b[0m \u001b[0mCLIENT_SECRET\u001b[0m\u001b[0;34m,\u001b[0m \u001b[0mREDIRECT_URI\u001b[0m\u001b[0;34m)\u001b[0m\u001b[0;34m\u001b[0m\u001b[0m\n\u001b[0;32m---> 43\u001b[0;31m     \u001b[0mapp\u001b[0m\u001b[0;34m.\u001b[0m\u001b[0mrun\u001b[0m\u001b[0;34m(\u001b[0m\u001b[0mdebug\u001b[0m\u001b[0;34m=\u001b[0m\u001b[0;32mTrue\u001b[0m\u001b[0;34m,\u001b[0m \u001b[0mport\u001b[0m\u001b[0;34m=\u001b[0m\u001b[0;36m65010\u001b[0m\u001b[0;34m)\u001b[0m\u001b[0;34m\u001b[0m\u001b[0m\n\u001b[0m",
      "\u001b[0;32m/Users/poi8756/anaconda/envs/py35/lib/python3.5/site-packages/flask/app.py\u001b[0m in \u001b[0;36mrun\u001b[0;34m(self, host, port, debug, **options)\u001b[0m\n\u001b[1;32m    841\u001b[0m         \u001b[0moptions\u001b[0m\u001b[0;34m.\u001b[0m\u001b[0msetdefault\u001b[0m\u001b[0;34m(\u001b[0m\u001b[0;34m'passthrough_errors'\u001b[0m\u001b[0;34m,\u001b[0m \u001b[0;32mTrue\u001b[0m\u001b[0;34m)\u001b[0m\u001b[0;34m\u001b[0m\u001b[0m\n\u001b[1;32m    842\u001b[0m         \u001b[0;32mtry\u001b[0m\u001b[0;34m:\u001b[0m\u001b[0;34m\u001b[0m\u001b[0m\n\u001b[0;32m--> 843\u001b[0;31m             \u001b[0mrun_simple\u001b[0m\u001b[0;34m(\u001b[0m\u001b[0mhost\u001b[0m\u001b[0;34m,\u001b[0m \u001b[0mport\u001b[0m\u001b[0;34m,\u001b[0m \u001b[0mself\u001b[0m\u001b[0;34m,\u001b[0m \u001b[0;34m**\u001b[0m\u001b[0moptions\u001b[0m\u001b[0;34m)\u001b[0m\u001b[0;34m\u001b[0m\u001b[0m\n\u001b[0m\u001b[1;32m    844\u001b[0m         \u001b[0;32mfinally\u001b[0m\u001b[0;34m:\u001b[0m\u001b[0;34m\u001b[0m\u001b[0m\n\u001b[1;32m    845\u001b[0m             \u001b[0;31m# reset the first request information if the development server\u001b[0m\u001b[0;34m\u001b[0m\u001b[0;34m\u001b[0m\u001b[0m\n",
      "\u001b[0;32m/Users/poi8756/anaconda/envs/py35/lib/python3.5/site-packages/werkzeug/serving.py\u001b[0m in \u001b[0;36mrun_simple\u001b[0;34m(hostname, port, application, use_reloader, use_debugger, use_evalex, extra_files, reloader_interval, reloader_type, threaded, processes, request_handler, static_files, passthrough_errors, ssl_context)\u001b[0m\n\u001b[1;32m    690\u001b[0m         \u001b[0;32mfrom\u001b[0m \u001b[0;34m.\u001b[0m\u001b[0m_reloader\u001b[0m \u001b[0;32mimport\u001b[0m \u001b[0mrun_with_reloader\u001b[0m\u001b[0;34m\u001b[0m\u001b[0m\n\u001b[1;32m    691\u001b[0m         run_with_reloader(inner, extra_files, reloader_interval,\n\u001b[0;32m--> 692\u001b[0;31m                           reloader_type)\n\u001b[0m\u001b[1;32m    693\u001b[0m     \u001b[0;32melse\u001b[0m\u001b[0;34m:\u001b[0m\u001b[0;34m\u001b[0m\u001b[0m\n\u001b[1;32m    694\u001b[0m         \u001b[0minner\u001b[0m\u001b[0;34m(\u001b[0m\u001b[0;34m)\u001b[0m\u001b[0;34m\u001b[0m\u001b[0m\n",
      "\u001b[0;32m/Users/poi8756/anaconda/envs/py35/lib/python3.5/site-packages/werkzeug/_reloader.py\u001b[0m in \u001b[0;36mrun_with_reloader\u001b[0;34m(main_func, extra_files, interval, reloader_type)\u001b[0m\n\u001b[1;32m    248\u001b[0m             \u001b[0mreloader\u001b[0m\u001b[0;34m.\u001b[0m\u001b[0mrun\u001b[0m\u001b[0;34m(\u001b[0m\u001b[0;34m)\u001b[0m\u001b[0;34m\u001b[0m\u001b[0m\n\u001b[1;32m    249\u001b[0m         \u001b[0;32melse\u001b[0m\u001b[0;34m:\u001b[0m\u001b[0;34m\u001b[0m\u001b[0m\n\u001b[0;32m--> 250\u001b[0;31m             \u001b[0msys\u001b[0m\u001b[0;34m.\u001b[0m\u001b[0mexit\u001b[0m\u001b[0;34m(\u001b[0m\u001b[0mreloader\u001b[0m\u001b[0;34m.\u001b[0m\u001b[0mrestart_with_reloader\u001b[0m\u001b[0;34m(\u001b[0m\u001b[0;34m)\u001b[0m\u001b[0;34m)\u001b[0m\u001b[0;34m\u001b[0m\u001b[0m\n\u001b[0m\u001b[1;32m    251\u001b[0m     \u001b[0;32mexcept\u001b[0m \u001b[0mKeyboardInterrupt\u001b[0m\u001b[0;34m:\u001b[0m\u001b[0;34m\u001b[0m\u001b[0m\n\u001b[1;32m    252\u001b[0m         \u001b[0;32mpass\u001b[0m\u001b[0;34m\u001b[0m\u001b[0m\n",
      "\u001b[0;31mSystemExit\u001b[0m: 1"
     ]
    }
   ],
   "source": [
    "%tb"
   ]
  },
  {
   "cell_type": "code",
   "execution_count": 13,
   "metadata": {
    "collapsed": false
   },
   "outputs": [
    {
     "ename": "OSError",
     "evalue": "[Errno 48] Address already in use",
     "output_type": "error",
     "traceback": [
      "\u001b[0;31m---------------------------------------------------------------------------\u001b[0m",
      "\u001b[0;31mOSError\u001b[0m                                   Traceback (most recent call last)",
      "\u001b[0;32m<ipython-input-13-8fc25d569cbc>\u001b[0m in \u001b[0;36m<module>\u001b[0;34m()\u001b[0m\n\u001b[1;32m     41\u001b[0m                     'pages/oauth.html for more info.')\n\u001b[1;32m     42\u001b[0m     \u001b[0mr\u001b[0m\u001b[0;34m.\u001b[0m\u001b[0mset_oauth_app_info\u001b[0m\u001b[0;34m(\u001b[0m\u001b[0mCLIENT_ID\u001b[0m\u001b[0;34m,\u001b[0m \u001b[0mCLIENT_SECRET\u001b[0m\u001b[0;34m,\u001b[0m \u001b[0mREDIRECT_URI\u001b[0m\u001b[0;34m)\u001b[0m\u001b[0;34m\u001b[0m\u001b[0m\n\u001b[0;32m---> 43\u001b[0;31m     \u001b[0mapp\u001b[0m\u001b[0;34m.\u001b[0m\u001b[0mrun\u001b[0m\u001b[0;34m(\u001b[0m\u001b[0mdebug\u001b[0m\u001b[0;34m=\u001b[0m\u001b[0;32mTrue\u001b[0m\u001b[0;34m,\u001b[0m \u001b[0mport\u001b[0m\u001b[0;34m=\u001b[0m\u001b[0;36m65010\u001b[0m\u001b[0;34m)\u001b[0m\u001b[0;34m\u001b[0m\u001b[0m\n\u001b[0m",
      "\u001b[0;32m/Users/poi8756/anaconda/envs/py35/lib/python3.5/site-packages/flask/app.py\u001b[0m in \u001b[0;36mrun\u001b[0;34m(self, host, port, debug, **options)\u001b[0m\n\u001b[1;32m    841\u001b[0m         \u001b[0moptions\u001b[0m\u001b[0;34m.\u001b[0m\u001b[0msetdefault\u001b[0m\u001b[0;34m(\u001b[0m\u001b[0;34m'passthrough_errors'\u001b[0m\u001b[0;34m,\u001b[0m \u001b[0;32mTrue\u001b[0m\u001b[0;34m)\u001b[0m\u001b[0;34m\u001b[0m\u001b[0m\n\u001b[1;32m    842\u001b[0m         \u001b[0;32mtry\u001b[0m\u001b[0;34m:\u001b[0m\u001b[0;34m\u001b[0m\u001b[0m\n\u001b[0;32m--> 843\u001b[0;31m             \u001b[0mrun_simple\u001b[0m\u001b[0;34m(\u001b[0m\u001b[0mhost\u001b[0m\u001b[0;34m,\u001b[0m \u001b[0mport\u001b[0m\u001b[0;34m,\u001b[0m \u001b[0mself\u001b[0m\u001b[0;34m,\u001b[0m \u001b[0;34m**\u001b[0m\u001b[0moptions\u001b[0m\u001b[0;34m)\u001b[0m\u001b[0;34m\u001b[0m\u001b[0m\n\u001b[0m\u001b[1;32m    844\u001b[0m         \u001b[0;32mfinally\u001b[0m\u001b[0;34m:\u001b[0m\u001b[0;34m\u001b[0m\u001b[0m\n\u001b[1;32m    845\u001b[0m             \u001b[0;31m# reset the first request information if the development server\u001b[0m\u001b[0;34m\u001b[0m\u001b[0;34m\u001b[0m\u001b[0m\n",
      "\u001b[0;32m/Users/poi8756/anaconda/envs/py35/lib/python3.5/site-packages/werkzeug/serving.py\u001b[0m in \u001b[0;36mrun_simple\u001b[0;34m(hostname, port, application, use_reloader, use_debugger, use_evalex, extra_files, reloader_interval, reloader_type, threaded, processes, request_handler, static_files, passthrough_errors, ssl_context)\u001b[0m\n\u001b[1;32m    675\u001b[0m             \u001b[0ms\u001b[0m \u001b[0;34m=\u001b[0m \u001b[0msocket\u001b[0m\u001b[0;34m.\u001b[0m\u001b[0msocket\u001b[0m\u001b[0;34m(\u001b[0m\u001b[0maddress_family\u001b[0m\u001b[0;34m,\u001b[0m \u001b[0msocket\u001b[0m\u001b[0;34m.\u001b[0m\u001b[0mSOCK_STREAM\u001b[0m\u001b[0;34m)\u001b[0m\u001b[0;34m\u001b[0m\u001b[0m\n\u001b[1;32m    676\u001b[0m             \u001b[0ms\u001b[0m\u001b[0;34m.\u001b[0m\u001b[0msetsockopt\u001b[0m\u001b[0;34m(\u001b[0m\u001b[0msocket\u001b[0m\u001b[0;34m.\u001b[0m\u001b[0mSOL_SOCKET\u001b[0m\u001b[0;34m,\u001b[0m \u001b[0msocket\u001b[0m\u001b[0;34m.\u001b[0m\u001b[0mSO_REUSEADDR\u001b[0m\u001b[0;34m,\u001b[0m \u001b[0;36m1\u001b[0m\u001b[0;34m)\u001b[0m\u001b[0;34m\u001b[0m\u001b[0m\n\u001b[0;32m--> 677\u001b[0;31m             \u001b[0ms\u001b[0m\u001b[0;34m.\u001b[0m\u001b[0mbind\u001b[0m\u001b[0;34m(\u001b[0m\u001b[0;34m(\u001b[0m\u001b[0mhostname\u001b[0m\u001b[0;34m,\u001b[0m \u001b[0mport\u001b[0m\u001b[0;34m)\u001b[0m\u001b[0;34m)\u001b[0m\u001b[0;34m\u001b[0m\u001b[0m\n\u001b[0m\u001b[1;32m    678\u001b[0m             \u001b[0;32mif\u001b[0m \u001b[0mhasattr\u001b[0m\u001b[0;34m(\u001b[0m\u001b[0ms\u001b[0m\u001b[0;34m,\u001b[0m \u001b[0;34m'set_inheritable'\u001b[0m\u001b[0;34m)\u001b[0m\u001b[0;34m:\u001b[0m\u001b[0;34m\u001b[0m\u001b[0m\n\u001b[1;32m    679\u001b[0m                 \u001b[0ms\u001b[0m\u001b[0;34m.\u001b[0m\u001b[0mset_inheritable\u001b[0m\u001b[0;34m(\u001b[0m\u001b[0;32mTrue\u001b[0m\u001b[0;34m)\u001b[0m\u001b[0;34m\u001b[0m\u001b[0m\n",
      "\u001b[0;31mOSError\u001b[0m: [Errno 48] Address already in use"
     ]
    }
   ],
   "source": [
    "# example_webserver.py #\n",
    "########################\n",
    "\n",
    "from flask import Flask, request\n",
    "\n",
    "import praw\n",
    "\n",
    "app = Flask(__name__)\n",
    "\n",
    "CLIENT_ID = 'e-_T3gZHhJlbbg'\n",
    "CLIENT_SECRET = 'yytNl10xHTbkuhwMSocCxYRk_CA'\n",
    "REDIRECT_URI = 'http://127.0.0.1:65010/authorize_callback'\n",
    "\n",
    "@app.route('/')\n",
    "def homepage():\n",
    "    link_no_refresh = r.get_authorize_url('UniqueKey')\n",
    "    link_refresh = r.get_authorize_url('DifferentUniqueKey',\n",
    "                                       refreshable=True)\n",
    "    link_no_refresh = \"<a href=%s>link</a>\" % link_no_refresh\n",
    "    link_refresh = \"<a href=%s>link</a>\" % link_refresh\n",
    "    text = \"First link. Not refreshable %s</br></br>\" % link_no_refresh\n",
    "    text += \"Second link. Refreshable %s</br></br>\" % link_refresh\n",
    "    return text\n",
    "\n",
    "@app.route('/authorize_callback')\n",
    "def authorized():\n",
    "    state = request.args.get('state', '')\n",
    "    code = request.args.get('code', '')\n",
    "    info = r.get_access_information(code)\n",
    "    user = r.get_me()\n",
    "    variables_text = \"State=%s, code=%s, info=%s.\" % (state, code,\n",
    "                                                      str(info))\n",
    "    text = 'You are %s and have %u link karma.' % (user.name,\n",
    "                                                   user.link_karma)\n",
    "    back_link = \"<a href='/'>Try again</a>\"\n",
    "    return variables_text + '</br></br>' + text + '</br></br>' + back_link\n",
    "\n",
    "if __name__ == '__main__':\n",
    "    r = praw.Reddit('OAuth Webserver example by u/_Daimon_ ver 0.1. See '\n",
    "                    'https://praw.readthedocs.io/en/latest/'\n",
    "                    'pages/oauth.html for more info.')\n",
    "    r.set_oauth_app_info(CLIENT_ID, CLIENT_SECRET, REDIRECT_URI)\n",
    "    app.run(debug=True, port=65010)"
   ]
  },
  {
   "cell_type": "code",
   "execution_count": null,
   "metadata": {
    "collapsed": true
   },
   "outputs": [],
   "source": []
  }
 ],
 "metadata": {
  "kernelspec": {
   "display_name": "Python 3",
   "language": "python",
   "name": "python3"
  },
  "language_info": {
   "codemirror_mode": {
    "name": "ipython",
    "version": 3
   },
   "file_extension": ".py",
   "mimetype": "text/x-python",
   "name": "python",
   "nbconvert_exporter": "python",
   "pygments_lexer": "ipython3",
   "version": "3.5.2"
  }
 },
 "nbformat": 4,
 "nbformat_minor": 0
}
