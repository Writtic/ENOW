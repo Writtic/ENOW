{
 "cells": [
  {
   "cell_type": "code",
   "execution_count": 1,
   "metadata": {
    "collapsed": false
   },
   "outputs": [
    {
     "ename": "SystemExit",
     "evalue": "1",
     "output_type": "error",
     "traceback": [
      "An exception has occurred, use %tb to see the full traceback.\n",
      "\u001b[0;31mSystemExit\u001b[0m\u001b[0;31m:\u001b[0m 1\n"
     ]
    },
    {
     "name": "stderr",
     "output_type": "stream",
     "text": [
      "To exit: use 'exit', 'quit', or Ctrl-D.\n"
     ]
    }
   ],
   "source": [
    "# example_webserver.py #\n",
    "########################\n",
    "\n",
    "from flask import Flask, request\n",
    "\n",
    "import praw\n",
    "\n",
    "app = Flask(__name__)\n",
    "\n",
    "CLIENT_ID = 'e-_T3gZHhJlbbg'\n",
    "CLIENT_SECRET = 'yytNl10xHTbkuhwMSocCxYRk_CA'\n",
    "REDIRECT_URI = 'http://127.0.0.1:65010/authorize_callback'\n",
    "\n",
    "@app.route('/')\n",
    "def homepage():\n",
    "    link_no_refresh = r.get_authorize_url('UniqueKey')\n",
    "    link_refresh = r.get_authorize_url('DifferentUniqueKey',\n",
    "                                       refreshable=True)\n",
    "    link_no_refresh = \"<a href=%s>link</a>\" % link_no_refresh\n",
    "    link_refresh = \"<a href=%s>link</a>\" % link_refresh\n",
    "    text = \"First link. Not refreshable %s</br></br>\" % link_no_refresh\n",
    "    text += \"Second link. Refreshable %s</br></br>\" % link_refresh\n",
    "    return text\n",
    "\n",
    "@app.route('/authorize_callback')\n",
    "def authorized():\n",
    "    state = request.args.get('state', '')\n",
    "    code = request.args.get('code', '')\n",
    "    info = r.get_access_information(code)\n",
    "    user = r.get_me()\n",
    "    variables_text = \"State=%s, code=%s, info=%s.\" % (state, code,\n",
    "                                                      str(info))\n",
    "    text = 'You are %s and have %u link karma.' % (user.name,\n",
    "                                                   user.link_karma)\n",
    "    back_link = \"<a href='/'>Try again</a>\"\n",
    "    return variables_text + '</br></br>' + text + '</br></br>' + back_link\n",
    "\n",
    "if __name__ == '__main__':\n",
    "    r = praw.Reddit('OAuth Webserver example by u/_Daimon_ ver 0.1. See '\n",
    "                    'https://praw.readthedocs.io/en/latest/'\n",
    "                    'pages/oauth.html for more info.')\n",
    "    r.set_oauth_app_info(CLIENT_ID, CLIENT_SECRET, REDIRECT_URI)\n",
    "    app.run(debug=True, port=65010)"
   ]
  },
  {
   "cell_type": "code",
   "execution_count": 2,
   "metadata": {
    "collapsed": false
   },
   "outputs": [
    {
     "name": "stderr",
     "output_type": "stream",
     "text": [
      "/Users/poi8756/anaconda/envs/py35/lib/python3.5/site-packages/ipykernel/zmqshell.py:368: DeprecationWarning: ZMQInteractiveShell._exit_now_changed is deprecated: use @observe and @unobserve instead.\n",
      "  def _exit_now_changed(self, name, old, new):\n"
     ]
    }
   ],
   "source": [
    "quit"
   ]
  },
  {
   "cell_type": "code",
   "execution_count": null,
   "metadata": {
    "collapsed": true
   },
   "outputs": [],
   "source": []
  }
 ],
 "metadata": {
  "kernelspec": {
   "display_name": "Python 3",
   "language": "python",
   "name": "python3"
  },
  "language_info": {
   "codemirror_mode": {
    "name": "ipython",
    "version": 3
   },
   "file_extension": ".py",
   "mimetype": "text/x-python",
   "name": "python",
   "nbconvert_exporter": "python",
   "pygments_lexer": "ipython3",
   "version": "3.5.2"
  }
 },
 "nbformat": 4,
 "nbformat_minor": 0
}
